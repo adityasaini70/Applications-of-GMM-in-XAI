{
 "cells": [
  {
   "cell_type": "code",
   "execution_count": 1,
   "metadata": {},
   "outputs": [
    {
     "name": "stderr",
     "output_type": "stream",
     "text": [
      "C:\\Users\\adity\\anaconda3\\lib\\site-packages\\sklearn\\utils\\deprecation.py:87: FutureWarning: Function load_boston is deprecated; `load_boston` is deprecated in 1.0 and will be removed in 1.2.\n",
      "\n",
      "    The Boston housing prices dataset has an ethical problem. You can refer to\n",
      "    the documentation of this function for further details.\n",
      "\n",
      "    The scikit-learn maintainers therefore strongly discourage the use of this\n",
      "    dataset unless the purpose of the code is to study and educate about\n",
      "    ethical issues in data science and machine learning.\n",
      "\n",
      "    In this special case, you can fetch the dataset from the original\n",
      "    source::\n",
      "\n",
      "        import pandas as pd\n",
      "        import numpy as np\n",
      "\n",
      "\n",
      "        data_url = \"http://lib.stat.cmu.edu/datasets/boston\"\n",
      "        raw_df = pd.read_csv(data_url, sep=\"\\s+\", skiprows=22, header=None)\n",
      "        data = np.hstack([raw_df.values[::2, :], raw_df.values[1::2, :2]])\n",
      "        target = raw_df.values[1::2, 2]\n",
      "\n",
      "    Alternative datasets include the California housing dataset (i.e.\n",
      "    :func:`~sklearn.datasets.fetch_california_housing`) and the Ames housing\n",
      "    dataset. You can load the datasets as follows::\n",
      "\n",
      "        from sklearn.datasets import fetch_california_housing\n",
      "        housing = fetch_california_housing()\n",
      "\n",
      "    for the California housing dataset and::\n",
      "\n",
      "        from sklearn.datasets import fetch_openml\n",
      "        housing = fetch_openml(name=\"house_prices\", as_frame=True)\n",
      "\n",
      "    for the Ames housing dataset.\n",
      "    \n",
      "  warnings.warn(msg, category=FutureWarning)\n"
     ]
    },
    {
     "name": "stdout",
     "output_type": "stream",
     "text": [
      "R2 score for the model on test set = 0.9026950583596305\n"
     ]
    }
   ],
   "source": [
    "#Importing the necessary libraries\n",
    "import numpy as np\n",
    "import matplotlib.pyplot as plt\n",
    "import pandas as pd\n",
    "\n",
    "#Loading the dataset using sklearn\n",
    "from sklearn.datasets import load_boston\n",
    "data = load_boston()\n",
    "\n",
    "#Separating data into feature variable X and target variable y respectively\n",
    "X=data['data']\n",
    "y=data['target']\n",
    "\n",
    "from sklearn.preprocessing import StandardScaler\n",
    "scaler = StandardScaler()\n",
    "X = scaler.fit_transform(X)\n",
    "\n",
    "#Extracting the names of the features from data\n",
    "features = data['feature_names']\n",
    "\n",
    "#Splitting X & y into training and testing set\n",
    "from sklearn.model_selection import train_test_split\n",
    "X_train, X_test, y_train, y_test = train_test_split(X, y, train_size=0.80, random_state=50)\n",
    "\n",
    "from sklearn.ensemble import ExtraTreesRegressor\n",
    "reg = ExtraTreesRegressor(n_estimators=100, random_state=0).fit(X_train, y_train)\n",
    "\n",
    "#Checking the model's performance on the test set\n",
    "print('R2 score for the model on test set =', reg.score(X_test, y_test))"
   ]
  },
  {
   "cell_type": "code",
   "execution_count": 2,
   "metadata": {},
   "outputs": [
    {
     "name": "stdout",
     "output_type": "stream",
     "text": [
      "Initialization 0\n",
      "  Iteration 10\n",
      "  Iteration 20\n",
      "  Iteration 30\n",
      "  Iteration 40\n",
      "  Iteration 50\n",
      "  Iteration 60\n",
      "  Iteration 70\n",
      "  Iteration 80\n",
      "Initialization converged: True\n",
      "Number of unique clusters = (13,)\n",
      "{4: 40,\n",
      " 12: 20,\n",
      " 23: 20,\n",
      " 41: 54,\n",
      " 108: 21,\n",
      " 175: 52,\n",
      " 216: 57,\n",
      " 242: 15,\n",
      " 263: 27,\n",
      " 265: 92,\n",
      " 273: 10,\n",
      " 390: 28,\n",
      " 479: 70}\n"
     ]
    }
   ],
   "source": [
    "from sklearn.mixture import BayesianGaussianMixture\n",
    "bgmm = BayesianGaussianMixture(n_components=X.shape[0],verbose=1,max_iter=1000, init_params='random',covariance_type='spherical', weight_concentration_prior_type='dirichlet_distribution', random_state=42)\n",
    "bgmm.fit(X)\n",
    "print(f\"Number of unique clusters = {np.unique(bgmm.predict(X)).shape}\")\n",
    "\n",
    "#Finding cluster labels and probabilities\n",
    "cluster_labels = bgmm.predict(X)\n",
    "cluster_proba = bgmm.predict_proba(X)\n",
    "mu = bgmm.means_\n",
    "cov = bgmm.covariances_\n",
    "\n",
    "from pprint import pprint\n",
    "unique, counts = np.unique(cluster_labels, return_counts=True)\n",
    "pprint(dict(zip(unique, counts)))"
   ]
  },
  {
   "cell_type": "code",
   "execution_count": 3,
   "metadata": {},
   "outputs": [
    {
     "data": {
      "text/plain": [
       "array([111, 114, 116, 117, 217, 308, 309, 313, 314, 318], dtype=int64)"
      ]
     },
     "execution_count": 3,
     "metadata": {},
     "output_type": "execute_result"
    }
   ],
   "source": [
    "np.argwhere(cluster_labels==273).ravel()"
   ]
  },
  {
   "cell_type": "code",
   "execution_count": 4,
   "metadata": {},
   "outputs": [],
   "source": [
    "#Sampling from BGMM\n",
    "idx = 111\n",
    "arr = X[idx]\n",
    "\n",
    "#Finding cluster for the given idx\n",
    "cluster_label_arr = cluster_labels[idx]\n",
    "cluster_proba_arr = cluster_proba[idx]\n",
    "mu_arr = mu[cluster_label_arr]\n",
    "cov_arr = cov[cluster_label_arr]\n",
    "\n",
    "#from scipy.stats import multivariate_normal\n",
    "from scipy.stats import multivariate_normal\n",
    "distr = multivariate_normal(cov = cov_arr, mean = mu_arr)\n",
    "X_surrogate = distr.rvs(size = 500)\n",
    "y_surrogate = reg.predict(X_surrogate)"
   ]
  },
  {
   "cell_type": "code",
   "execution_count": 5,
   "metadata": {},
   "outputs": [
    {
     "name": "stderr",
     "output_type": "stream",
     "text": [
      "100%|██████████████████████████████████████████████████████████████████████████████████| 15/15 [00:02<00:00,  7.00it/s]\n"
     ]
    }
   ],
   "source": [
    "from tqdm import tqdm\n",
    "from scipy.stats import rankdata\n",
    "from sklearn.linear_model import LinearRegression\n",
    "\n",
    "bgmm_stability_scores = []\n",
    "bgmm_fidelity_scores = []\n",
    "\n",
    "samples_list = list(range(10, 91, 20)) + list(range(100, 1001, 100))\n",
    "for num_samples in tqdm(samples_list):\n",
    "    fidelity_score = 0\n",
    "    scores = []\n",
    "    for i in range(10):\n",
    "        distr = multivariate_normal(cov = cov_arr, mean = mu_arr)\n",
    "        X_surrogate = distr.rvs(size = num_samples)\n",
    "        y_surrogate = reg.predict(X_surrogate)\n",
    "        bbox = LinearRegression().fit(X_surrogate, y_surrogate)\n",
    "\n",
    "        bbox.fit(X_surrogate, y_surrogate)\n",
    "#         plt.title(f\"Iteration{i}, Surrogate fit = {bbox.score(X_surrogate, y_surrogate)}\")\n",
    "#         plt.stem(bbox.coef_/max(bbox.coef_))\n",
    "#         plt.show()\n",
    "        scores.append(bbox.coef_/max(bbox.coef_))\n",
    "        fidelity_score+=bbox.score(X_surrogate, y_surrogate)\n",
    "    rankings = rankdata(np.array(scores), axis=1)\n",
    "    m = rankings.shape[0]\n",
    "    n = rankings.shape[1]\n",
    "    denom = m ** 2 * (n ** 3 - n)\n",
    "    S = n * np.var(np.sum(rankings, axis=0))\n",
    "    bgmm_stability_scores.append(12 * S / denom)\n",
    "    bgmm_fidelity_scores.append(fidelity_score/10)"
   ]
  },
  {
   "cell_type": "code",
   "execution_count": 6,
   "metadata": {},
   "outputs": [
    {
     "name": "stderr",
     "output_type": "stream",
     "text": [
      "100%|██████████████████████████████████████████████████████████████████████████████████| 15/15 [00:43<00:00,  2.92s/it]\n"
     ]
    }
   ],
   "source": [
    "from tqdm import tqdm\n",
    "import lime.lime_tabular\n",
    "\n",
    "lime_stability_scores = []\n",
    "lime_fidelity_scores = []\n",
    "samples_list = list(range(10, 91, 20)) + list(range(100, 1001, 100))\n",
    "for num_samples in tqdm(samples_list):\n",
    "    fidelity_score = 0\n",
    "    scores = []\n",
    "    for i in range(10):\n",
    "        explainer_lime = lime.lime_tabular.LimeTabularExplainer(X_train,\n",
    "                                                            feature_names=features,\n",
    "                                                            verbose=False, mode='regression')\n",
    "        exp_lime = explainer_lime.explain_instance(X[idx], \n",
    "                                                   reg.predict, \n",
    "                                                   num_features=X.shape[1], \n",
    "                                                   num_samples=num_samples)\n",
    "        \n",
    "#         plt.title(f\"Iteration{i}, Surrogate fit = {bbox.score(X_surrogate, y_surrogate)}\")\n",
    "#         plt.stem(bbox.coef_/max(bbox.coef_))\n",
    "#         plt.show()\n",
    "        scores.append(np.array(exp_lime.as_list())[:,1].astype('float'))\n",
    "        fidelity_score+=exp_lime.score\n",
    "    \n",
    "    rankings = rankdata(np.array(scores), axis=1)\n",
    "    m = rankings.shape[0]\n",
    "    n = rankings.shape[1]\n",
    "    denom = m ** 2 * (n ** 3 - n)\n",
    "    S = n * np.var(np.sum(rankings, axis=0))\n",
    "    lime_stability_scores.append(12 * S / denom)\n",
    "    lime_fidelity_scores.append(fidelity_score/10)"
   ]
  },
  {
   "cell_type": "code",
   "execution_count": 7,
   "metadata": {},
   "outputs": [
    {
     "data": {
      "image/png": "[encoded data removed]",
      "text/plain": [
       "<Figure size 432x360 with 1 Axes>"
      ]
     },
     "metadata": {
      "needs_background": "light"
     },
     "output_type": "display_data"
    }
   ],
   "source": [
    "import matplotlib.pyplot as plt\n",
    "plt.rcParams['figure.figsize'] = 6, 5\n",
    "plt.plot(samples_list,lime_stability_scores,label='lime')\n",
    "plt.plot(samples_list,bgmm_stability_scores, label='bgmm')\n",
    "plt.xlabel(\"Number of samples\")\n",
    "plt.ylabel(\"Kendall's W\")\n",
    "plt.legend()\n",
    "plt.savefig(\"results/stability_boston.png\",dpi=300)"
   ]
  },
  {
   "cell_type": "code",
   "execution_count": 8,
   "metadata": {},
   "outputs": [
    {
     "data": {
      "image/png": "[encoded data removed]",
      "text/plain": [
       "<Figure size 432x360 with 1 Axes>"
      ]
     },
     "metadata": {
      "needs_background": "light"
     },
     "output_type": "display_data"
    }
   ],
   "source": [
    "plt.plot(samples_list,lime_fidelity_scores,label='lime')\n",
    "plt.plot(samples_list,bgmm_fidelity_scores,label='bgmm')\n",
    "plt.xlabel(\"Number of samples\")\n",
    "plt.ylabel(\"R2 score\")\n",
    "plt.legend()\n",
    "plt.savefig(\"results/fidelity_boston.png\",dpi=300)"
   ]
  }
 ],
 "metadata": {
  "kernelspec": {
   "display_name": "Python 3",
   "language": "python",
   "name": "python3"
  },
  "language_info": {
   "codemirror_mode": {
    "name": "ipython",
    "version": 3
   },
   "file_extension": ".py",
   "mimetype": "text/x-python",
   "name": "python",
   "nbconvert_exporter": "python",
   "pygments_lexer": "ipython3",
   "version": "3.8.5"
  }
 },
 "nbformat": 4,
 "nbformat_minor": 4
}
