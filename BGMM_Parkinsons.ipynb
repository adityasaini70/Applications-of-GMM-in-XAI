{
 "cells": [
  {
   "cell_type": "code",
   "execution_count": 1,
   "metadata": {},
   "outputs": [
    {
     "name": "stdout",
     "output_type": "stream",
     "text": [
      "R2 score for the model on test set = 0.8717948717948718\n"
     ]
    }
   ],
   "source": [
    "#Importing the necessary libraries\n",
    "import numpy as np\n",
    "import matplotlib.pyplot as plt\n",
    "import pandas as pd\n",
    "\n",
    "#Loading the dataset using sklearn\n",
    "from sklearn.datasets import fetch_openml\n",
    "data = fetch_openml(\"parkinsons\")\n",
    "\n",
    "#Separating data into feature variable X and target variable y respectively\n",
    "X=data['data']\n",
    "y=data['target']\n",
    "\n",
    "from sklearn.preprocessing import StandardScaler\n",
    "scaler = StandardScaler()\n",
    "X = scaler.fit_transform(X)\n",
    "\n",
    "#Extracting the names of the features from data\n",
    "features = data['feature_names']\n",
    "\n",
    "#Splitting X & y into training and testing set\n",
    "from sklearn.model_selection import train_test_split\n",
    "X_train, X_test, y_train, y_test = train_test_split(X, y, train_size=0.80, random_state=50)\n",
    "\n",
    "from sklearn.svm import SVC\n",
    "clf = SVC(probability=True, random_state=50).fit(X_train, y_train)\n",
    "\n",
    "#Checking the model's performance on the test set\n",
    "print('R2 score for the model on test set =', clf.score(X_test, y_test))"
   ]
  },
  {
   "cell_type": "code",
   "execution_count": 2,
   "metadata": {},
   "outputs": [
    {
     "name": "stdout",
     "output_type": "stream",
     "text": [
      "Initialization 0\n",
      "  Iteration 10\n",
      "  Iteration 20\n",
      "  Iteration 30\n",
      "  Iteration 40\n",
      "  Iteration 50\n",
      "  Iteration 60\n",
      "  Iteration 70\n",
      "  Iteration 80\n",
      "Initialization converged: True\n",
      "Number of unique clusters = (8,)\n",
      "{28: 10, 65: 32, 85: 3, 90: 29, 97: 4, 104: 85, 108: 26, 135: 6}\n"
     ]
    }
   ],
   "source": [
    "from sklearn.mixture import BayesianGaussianMixture\n",
    "bgmm = BayesianGaussianMixture(n_components=X.shape[0],verbose=1,max_iter=1000, init_params='random',covariance_type='spherical', weight_concentration_prior_type='dirichlet_distribution', random_state=42)\n",
    "bgmm.fit(X)\n",
    "print(f\"Number of unique clusters = {np.unique(bgmm.predict(X)).shape}\")\n",
    "\n",
    "#Finding cluster labels and probabilities\n",
    "cluster_labels = bgmm.predict(X)\n",
    "cluster_proba = bgmm.predict_proba(X)\n",
    "mu = bgmm.means_\n",
    "cov = bgmm.covariances_\n",
    "\n",
    "from pprint import pprint\n",
    "unique, counts = np.unique(cluster_labels, return_counts=True)\n",
    "pprint(dict(zip(unique, counts)))"
   ]
  },
  {
   "cell_type": "code",
   "execution_count": 3,
   "metadata": {},
   "outputs": [
    {
     "data": {
      "text/plain": [
       "array([ 21, 134, 135, 136, 137, 138], dtype=int64)"
      ]
     },
     "execution_count": 3,
     "metadata": {},
     "output_type": "execute_result"
    }
   ],
   "source": [
    "np.argwhere(cluster_labels==135).ravel()"
   ]
  },
  {
   "cell_type": "code",
   "execution_count": 4,
   "metadata": {},
   "outputs": [],
   "source": [
    "#Sampling from BGMM\n",
    "idx = 133\n",
    "arr = X[idx]\n",
    "\n",
    "#Finding cluster for the given idx\n",
    "cluster_label_arr = cluster_labels[idx]\n",
    "cluster_proba_arr = cluster_proba[idx]\n",
    "mu_arr = mu[cluster_label_arr]\n",
    "cov_arr = cov[cluster_label_arr]\n",
    "\n",
    "#from scipy.stats import multivariate_normal\n",
    "from scipy.stats import multivariate_normal\n",
    "distr = multivariate_normal(cov = cov_arr, mean = mu_arr)\n",
    "X_surrogate = distr.rvs(size = 500)\n",
    "y_surrogate = clf.predict_proba(X_surrogate)"
   ]
  },
  {
   "cell_type": "code",
   "execution_count": 5,
   "metadata": {},
   "outputs": [
    {
     "name": "stderr",
     "output_type": "stream",
     "text": [
      "100%|██████████████████████████████████████████████████████████████████████████████████| 15/15 [00:00<00:00, 19.35it/s]\n"
     ]
    }
   ],
   "source": [
    "from tqdm import tqdm\n",
    "from scipy.stats import rankdata\n",
    "from sklearn.linear_model import LinearRegression, Lasso, Ridge\n",
    "\n",
    "bgmm_stability_scores = []\n",
    "bgmm_fidelity_scores = []\n",
    "bgmm_mean_scores = []\n",
    "\n",
    "samples_list = list(range(10, 91, 20)) + list(range(100, 1001, 100))\n",
    "for num_samples in tqdm(samples_list):\n",
    "    fidelity_score = 0\n",
    "    scores = []\n",
    "    for i in range(10):\n",
    "        distr = multivariate_normal(cov = cov_arr, mean = mu_arr)\n",
    "        X_surrogate = distr.rvs(size = num_samples)\n",
    "        y_surrogate = clf.predict_proba(X_surrogate)\n",
    "        bbox = Ridge().fit(X_surrogate, y_surrogate)\n",
    "\n",
    "        bbox.fit(X_surrogate, y_surrogate)\n",
    "#         plt.title(f\"Iteration{i}, Surrogate fit = {bbox.score(X_surrogate, y_surrogate)}\")\n",
    "#         plt.stem(bbox.coef_/max(bbox.coef_))\n",
    "#         plt.show()\n",
    "        scores.append(bbox.coef_[int(y[idx])-1]/max(bbox.coef_[int(y[idx])-1]))\n",
    "        fidelity_score+=bbox.score(X_surrogate, y_surrogate)\n",
    "    rankings = rankdata(np.array(scores), axis=1)\n",
    "    m = rankings.shape[0]\n",
    "    n = rankings.shape[1]\n",
    "    denom = m ** 2 * (n ** 3 - n)\n",
    "    S = n * np.var(np.sum(rankings, axis=0))\n",
    "    bgmm_stability_scores.append(12 * S / denom)\n",
    "    bgmm_fidelity_scores.append(fidelity_score/10)\n",
    "    bgmm_mean_scores.append(np.mean(scores,axis=0))\n"
   ]
  },
  {
   "cell_type": "code",
   "execution_count": 6,
   "metadata": {},
   "outputs": [
    {
     "data": {
      "text/plain": [
       "(15, 22)"
      ]
     },
     "execution_count": 6,
     "metadata": {},
     "output_type": "execute_result"
    }
   ],
   "source": [
    "np.array(bgmm_mean_scores).shape"
   ]
  },
  {
   "cell_type": "code",
   "execution_count": 7,
   "metadata": {},
   "outputs": [
    {
     "name": "stderr",
     "output_type": "stream",
     "text": [
      "100%|██████████████████████████████████████████████████████████████████████████████████| 15/15 [01:19<00:00,  5.31s/it]\n"
     ]
    }
   ],
   "source": [
    "from tqdm import tqdm\n",
    "import lime.lime_tabular\n",
    "\n",
    "lime_stability_scores = []\n",
    "lime_fidelity_scores = []\n",
    "lime_mean_scores = []\n",
    "\n",
    "samples_list = list(range(10, 91, 20)) + list(range(100, 1001, 100))\n",
    "for num_samples in tqdm(samples_list):\n",
    "    fidelity_score = 0\n",
    "    scores = []\n",
    "    for i in range(10):\n",
    "        explainer_lime = lime.lime_tabular.LimeTabularExplainer(X,\n",
    "                                                            feature_names=features,\n",
    "                                                            verbose=False, mode='classification')\n",
    "        exp_lime = explainer_lime.explain_instance(X[idx], \n",
    "                                                   clf.predict_proba, \n",
    "                                                   num_features=X.shape[1], \n",
    "                                                   num_samples=num_samples)\n",
    "        \n",
    "#         plt.title(f\"Iteration{i}, Surrogate fit = {bbox.score(X_surrogate, y_surrogate)}\")\n",
    "#         plt.stem(bbox.coef_/max(bbox.coef_))\n",
    "#         plt.show()\n",
    "        scores.append(np.array(exp_lime.as_list())[:,1].astype('float'))\n",
    "        fidelity_score+=exp_lime.score\n",
    "    \n",
    "    rankings = rankdata(np.array(scores), axis=1)\n",
    "    m = rankings.shape[0]\n",
    "    n = rankings.shape[1]\n",
    "    denom = m ** 2 * (n ** 3 - n)\n",
    "    S = n * np.var(np.sum(rankings, axis=0))\n",
    "    lime_stability_scores.append(12 * S / denom)\n",
    "    lime_fidelity_scores.append(fidelity_score/10)\n",
    "    lime_mean_scores.append(np.mean(scores,axis=0))\n"
   ]
  },
  {
   "cell_type": "code",
   "execution_count": 8,
   "metadata": {},
   "outputs": [
    {
     "data": {
      "image/png": "[encoded data removed]",
      "text/plain": [
       "<Figure size 432x360 with 1 Axes>"
      ]
     },
     "metadata": {
      "needs_background": "light"
     },
     "output_type": "display_data"
    }
   ],
   "source": [
    "import matplotlib.pyplot as plt\n",
    "plt.rcParams['figure.figsize'] = 6, 5\n",
    "plt.plot(samples_list,lime_stability_scores,label='lime')\n",
    "plt.plot(samples_list,bgmm_stability_scores, label='bgmm')\n",
    "plt.xlabel(\"Number of samples\")\n",
    "plt.ylabel(\"Kendall's W\")\n",
    "plt.legend()\n",
    "plt.savefig(\"results/stability_parkinsons.png\",dpi=300)"
   ]
  },
  {
   "cell_type": "code",
   "execution_count": 9,
   "metadata": {},
   "outputs": [
    {
     "data": {
      "image/png": "[encoded data removed]",
      "text/plain": [
       "<Figure size 432x360 with 1 Axes>"
      ]
     },
     "metadata": {
      "needs_background": "light"
     },
     "output_type": "display_data"
    }
   ],
   "source": [
    "plt.plot(samples_list,lime_fidelity_scores,label='lime')\n",
    "plt.plot(samples_list,bgmm_fidelity_scores,label='bgmm')\n",
    "plt.xlabel(\"Number of samples\")\n",
    "plt.ylabel(\"R2 score\")\n",
    "plt.legend()\n",
    "plt.savefig(\"results/fidelity_parkinsons.png\",dpi=300)"
   ]
  }
 ],
 "metadata": {
  "kernelspec": {
   "display_name": "Python 3",
   "language": "python",
   "name": "python3"
  },
  "language_info": {
   "codemirror_mode": {
    "name": "ipython",
    "version": 3
   },
   "file_extension": ".py",
   "mimetype": "text/x-python",
   "name": "python",
   "nbconvert_exporter": "python",
   "pygments_lexer": "ipython3",
   "version": "3.8.5"
  }
 },
 "nbformat": 4,
 "nbformat_minor": 4
}
