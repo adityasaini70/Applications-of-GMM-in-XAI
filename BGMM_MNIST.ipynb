{
 "cells": [
  {
   "cell_type": "code",
   "execution_count": 2,
   "metadata": {},
   "outputs": [
    {
     "name": "stdout",
     "output_type": "stream",
     "text": [
      "R2 score for the model on test set = 0.9861111111111112\n"
     ]
    }
   ],
   "source": [
    "#Importing the necessary libraries\n",
    "import numpy as np\n",
    "import matplotlib.pyplot as plt\n",
    "import pandas as pd\n",
    "\n",
    "#Loading the dataset using sklearn\n",
    "from sklearn.datasets import load_digits\n",
    "data = load_digits()\n",
    "\n",
    "#Separating data into feature variable X and target variable y respectively\n",
    "X=data['data']\n",
    "y=data['target']\n",
    "\n",
    "#Extracting the names of the features from data\n",
    "features = data['feature_names']\n",
    "\n",
    "#Splitting X & y into training and testing set\n",
    "from sklearn.model_selection import train_test_split\n",
    "X_train, X_test, y_train, y_test = train_test_split(X, y, train_size=0.80, random_state=50)\n",
    "\n",
    "from sklearn.svm import SVC\n",
    "clf = SVC(probability=True).fit(X_train, y_train)\n",
    "\n",
    "#Checking the model's performance on the test set\n",
    "print('R2 score for the model on test set =', clf.score(X_test, y_test))"
   ]
  },
  {
   "cell_type": "code",
   "execution_count": 3,
   "metadata": {},
   "outputs": [
    {
     "name": "stdout",
     "output_type": "stream",
     "text": [
      "Initialization 0\n",
      "  Iteration 10\n",
      "  Iteration 20\n",
      "  Iteration 30\n",
      "  Iteration 40\n",
      "  Iteration 50\n",
      "  Iteration 60\n",
      "  Iteration 70\n",
      "  Iteration 80\n",
      "Initialization converged: True\n",
      "Number of unique clusters = (4,)\n",
      "{703: 137, 711: 156, 926: 43, 1523: 1461}\n"
     ]
    }
   ],
   "source": [
    "from sklearn.mixture import BayesianGaussianMixture\n",
    "bgmm = BayesianGaussianMixture(n_components=X.shape[0],verbose=1,max_iter=1000, init_params='random',covariance_type='spherical', weight_concentration_prior_type='dirichlet_distribution', random_state=42)\n",
    "bgmm.fit(X)\n",
    "print(f\"Number of unique clusters = {np.unique(bgmm.predict(X)).shape}\")\n",
    "\n",
    "#Finding cluster labels and probabilities\n",
    "cluster_labels = bgmm.predict(X)\n",
    "cluster_proba = bgmm.predict_proba(X)\n",
    "mu = bgmm.means_\n",
    "cov = bgmm.covariances_\n",
    "\n",
    "from pprint import pprint\n",
    "unique, counts = np.unique(cluster_labels, return_counts=True)\n",
    "pprint(dict(zip(unique, counts)))"
   ]
  },
  {
   "cell_type": "code",
   "execution_count": 5,
   "metadata": {},
   "outputs": [
    {
     "data": {
      "text/plain": [
       "array([   0,   10,   20,   30,   36,   48,   49,   55,   72,   78,   79,\n",
       "        101,  126,  130,  140,  150,  160,  166,  178,  179,  185,  202,\n",
       "        208,  229,  252,  256,  266,  276,  286,  304,  305,  311,  328,\n",
       "        334,  335,  357,  382,  386,  396,  406,  416,  422,  434,  435,\n",
       "        441,  458,  464,  465,  487,  512,  516,  526,  536,  546,  552,\n",
       "        564,  565,  571,  588,  594,  595,  642,  646,  666,  676,  682,\n",
       "        694,  695,  718,  724,  725,  747,  772,  786,  796,  806,  812,\n",
       "        824,  825,  831,  848,  855,  877,  902,  915,  925,  935,  941,\n",
       "        957,  974,  981, 1002, 1029, 1039, 1049, 1059, 1065, 1082, 1099,\n",
       "       1105, 1106, 1128, 1153, 1157, 1167, 1177, 1193, 1205, 1206, 1212,\n",
       "       1236, 1258, 1297, 1307, 1317, 1335, 1336, 1342, 1359, 1365, 1366,\n",
       "       1388, 1413, 1415, 1425, 1435, 1445, 1451, 1463, 1464, 1470, 1487,\n",
       "       1493, 1494, 1516, 1541, 1545, 1555, 1563, 1579, 1598, 1620, 1642,\n",
       "       1663, 1667, 1677, 1687, 1697, 1703, 1715, 1716, 1722, 1739, 1745,\n",
       "       1746, 1793], dtype=int64)"
      ]
     },
     "execution_count": 5,
     "metadata": {},
     "output_type": "execute_result"
    }
   ],
   "source": [
    "np.argwhere(cluster_labels==711).ravel()"
   ]
  },
  {
   "cell_type": "code",
   "execution_count": 10,
   "metadata": {},
   "outputs": [
    {
     "data": {
      "image/png": "[encoded data removed]",
      "text/plain": [
       "<Figure size 432x288 with 1 Axes>"
      ]
     },
     "metadata": {
      "needs_background": "light"
     },
     "output_type": "display_data"
    }
   ],
   "source": [
    "plt.imshow(X[335].reshape(8,8))\n",
    "plt.savefig(\"results/original_mnist_one.png\", dpi=300)"
   ]
  },
  {
   "cell_type": "code",
   "execution_count": 11,
   "metadata": {},
   "outputs": [],
   "source": [
    "#Sampling from BGMM\n",
    "idx = 335\n",
    "arr = X[idx]\n",
    "\n",
    "#Finding cluster for the given idx\n",
    "cluster_label_arr = cluster_labels[idx]\n",
    "cluster_proba_arr = cluster_proba[idx]\n",
    "mu_arr = mu[cluster_label_arr]\n",
    "cov_arr = cov[cluster_label_arr]\n",
    "\n",
    "#from scipy.stats import multivariate_normal\n",
    "from scipy.stats import multivariate_normal\n",
    "distr = multivariate_normal(cov = cov_arr, mean = mu_arr)\n",
    "X_surrogate = distr.rvs(size = 500)\n",
    "y_surrogate = clf.predict_proba(X_surrogate)"
   ]
  },
  {
   "cell_type": "code",
   "execution_count": 12,
   "metadata": {},
   "outputs": [
    {
     "name": "stderr",
     "output_type": "stream",
     "text": [
      "100%|██████████████████████████████████████████████████████████████████████████████████| 15/15 [00:05<00:00,  2.67it/s]\n"
     ]
    }
   ],
   "source": [
    "from tqdm import tqdm\n",
    "from scipy.stats import rankdata\n",
    "from sklearn.linear_model import LinearRegression, Lasso, Ridge\n",
    "\n",
    "bgmm_stability_scores = []\n",
    "bgmm_fidelity_scores = []\n",
    "bgmm_mean_scores = []\n",
    "\n",
    "samples_list = list(range(10, 91, 20)) + list(range(100, 1001, 100))\n",
    "for num_samples in tqdm(samples_list):\n",
    "    fidelity_score = 0\n",
    "    scores = []\n",
    "    for i in range(10):\n",
    "        distr = multivariate_normal(cov = cov_arr, mean = mu_arr)\n",
    "        X_surrogate = distr.rvs(size = num_samples)\n",
    "        y_surrogate = clf.predict_proba(X_surrogate)\n",
    "        bbox = Ridge().fit(X_surrogate, y_surrogate)\n",
    "\n",
    "        bbox.fit(X_surrogate, y_surrogate)\n",
    "#         plt.title(f\"Iteration{i}, Surrogate fit = {bbox.score(X_surrogate, y_surrogate)}\")\n",
    "#         plt.stem(bbox.coef_/max(bbox.coef_))\n",
    "#         plt.show()\n",
    "        scores.append(bbox.coef_[int(y[idx])-1]/max(bbox.coef_[int(y[idx])-1]))\n",
    "        fidelity_score+=bbox.score(X_surrogate, y_surrogate)\n",
    "    rankings = rankdata(np.array(scores), axis=1)\n",
    "    m = rankings.shape[0]\n",
    "    n = rankings.shape[1]\n",
    "    denom = m ** 2 * (n ** 3 - n)\n",
    "    S = n * np.var(np.sum(rankings, axis=0))\n",
    "    bgmm_stability_scores.append(12 * S / denom)\n",
    "    bgmm_fidelity_scores.append(fidelity_score/10)\n",
    "    bgmm_mean_scores.append(np.mean(scores,axis=0))\n"
   ]
  },
  {
   "cell_type": "code",
   "execution_count": 13,
   "metadata": {},
   "outputs": [
    {
     "name": "stderr",
     "output_type": "stream",
     "text": [
      "100%|██████████████████████████████████████████████████████████████████████████████████| 15/15 [02:19<00:00,  9.28s/it]\n"
     ]
    }
   ],
   "source": [
    "from tqdm import tqdm\n",
    "import lime.lime_tabular\n",
    "\n",
    "lime_stability_scores = []\n",
    "lime_fidelity_scores = []\n",
    "lime_mean_scores = []\n",
    "\n",
    "samples_list = list(range(10, 91, 20)) + list(range(100, 1001, 100))\n",
    "for num_samples in tqdm(samples_list):\n",
    "    fidelity_score = 0\n",
    "    scores = []\n",
    "    for i in range(10):\n",
    "        explainer_lime = lime.lime_tabular.LimeTabularExplainer(X,\n",
    "                                                            feature_names=features,\n",
    "                                                            verbose=False, mode='classification')\n",
    "        exp_lime = explainer_lime.explain_instance(X[idx], \n",
    "                                                   clf.predict_proba, \n",
    "                                                   num_features=X.shape[1], \n",
    "                                                   num_samples=num_samples)\n",
    "        \n",
    "#         plt.title(f\"Iteration{i}, Surrogate fit = {bbox.score(X_surrogate, y_surrogate)}\")\n",
    "#         plt.stem(bbox.coef_/max(bbox.coef_))\n",
    "#         plt.show()\n",
    "        scores.append(np.array(exp_lime.as_list())[:,1].astype('float'))\n",
    "        fidelity_score+=exp_lime.score\n",
    "    \n",
    "    rankings = rankdata(np.array(scores), axis=1)\n",
    "    m = rankings.shape[0]\n",
    "    n = rankings.shape[1]\n",
    "    denom = m ** 2 * (n ** 3 - n)\n",
    "    S = n * np.var(np.sum(rankings, axis=0))\n",
    "    lime_stability_scores.append(12 * S / denom)\n",
    "    lime_fidelity_scores.append(fidelity_score/10)\n",
    "    lime_mean_scores.append(np.mean(scores,axis=0))\n"
   ]
  },
  {
   "cell_type": "code",
   "execution_count": 14,
   "metadata": {},
   "outputs": [
    {
     "data": {
      "image/png": "[encoded data removed]",
      "text/plain": [
       "<Figure size 432x360 with 1 Axes>"
      ]
     },
     "metadata": {
      "needs_background": "light"
     },
     "output_type": "display_data"
    }
   ],
   "source": [
    "import matplotlib.pyplot as plt\n",
    "plt.rcParams['figure.figsize'] = 6, 5\n",
    "plt.plot(samples_list,lime_stability_scores,label='lime')\n",
    "plt.plot(samples_list,bgmm_stability_scores, label='bgmm')\n",
    "plt.xlabel(\"Number of samples\")\n",
    "plt.ylabel(\"Kendall's W\")\n",
    "plt.legend()\n",
    "plt.savefig(\"results/stability_mnist.png\",dpi=300)"
   ]
  },
  {
   "cell_type": "code",
   "execution_count": 15,
   "metadata": {},
   "outputs": [
    {
     "data": {
      "image/png": "[encoded data removed]",
      "text/plain": [
       "<Figure size 432x360 with 1 Axes>"
      ]
     },
     "metadata": {
      "needs_background": "light"
     },
     "output_type": "display_data"
    }
   ],
   "source": [
    "plt.plot(samples_list,lime_fidelity_scores,label='lime')\n",
    "plt.plot(samples_list,bgmm_fidelity_scores,label='bgmm')\n",
    "plt.xlabel(\"Number of samples\")\n",
    "plt.ylabel(\"R2 score\")\n",
    "plt.legend()\n",
    "plt.savefig(\"results/fidelity_mnist.png\",dpi=300)"
   ]
  },
  {
   "cell_type": "code",
   "execution_count": 16,
   "metadata": {},
   "outputs": [
    {
     "data": {
      "image/png": "[encoded data removed]",
      "text/plain": [
       "<Figure size 432x360 with 1 Axes>"
      ]
     },
     "metadata": {
      "needs_background": "light"
     },
     "output_type": "display_data"
    }
   ],
   "source": [
    "plt.imshow((bgmm_mean_scores[-1]/np.max(bgmm_mean_scores[-1])).reshape(8,8))\n",
    "plt.savefig(\"results/mip_bgmm_mnist_one.png\", dpi=300)"
   ]
  },
  {
   "cell_type": "code",
   "execution_count": 17,
   "metadata": {},
   "outputs": [
    {
     "data": {
      "image/png": "[encoded data removed]",
      "text/plain": [
       "<Figure size 432x360 with 1 Axes>"
      ]
     },
     "metadata": {
      "needs_background": "light"
     },
     "output_type": "display_data"
    }
   ],
   "source": [
    "plt.imshow((lime_mean_scores[-1]/np.max(lime_mean_scores[-1])).reshape(8,8))\n",
    "plt.savefig(\"results/mip_lime_mnist_one.png\", dpi=300)"
   ]
  }
 ],
 "metadata": {
  "kernelspec": {
   "display_name": "Python 3",
   "language": "python",
   "name": "python3"
  },
  "language_info": {
   "codemirror_mode": {
    "name": "ipython",
    "version": 3
   },
   "file_extension": ".py",
   "mimetype": "text/x-python",
   "name": "python",
   "nbconvert_exporter": "python",
   "pygments_lexer": "ipython3",
   "version": "3.8.5"
  }
 },
 "nbformat": 4,
 "nbformat_minor": 4
}
